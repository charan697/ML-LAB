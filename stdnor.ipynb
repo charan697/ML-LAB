{
 "cells": [
  {
   "cell_type": "code",
   "execution_count": 3,
   "metadata": {},
   "outputs": [],
   "source": [
    "#STANDARDIZATION AND NORMALIZATION"
   ]
  },
  {
   "cell_type": "markdown",
   "metadata": {},
   "source": [
    "#MIN MAX NORMALIZATION\n"
   ]
  },
  {
   "cell_type": "code",
   "execution_count": 8,
   "metadata": {},
   "outputs": [
    {
     "name": "stdout",
     "output_type": "stream",
     "text": [
      "value:Normalized value\n",
      "\n",
      "115.3:0.23691722169362506\n",
      "195.5:1.0\n",
      "120.5:0.2863939105613701\n",
      "110.2:0.18839200761179828\n",
      "90.4:0.0\n",
      "105.6:0.14462416745956222\n",
      "110.9:0.1950523311132255\n",
      "116.3:0.24643196955280677\n",
      "122.3:0.3035204567078972\n",
      "125.4:0.3330161750713606\n"
     ]
    }
   ],
   "source": [
    "a=[115.3,195.5,120.5,110.2,90.4,105.6,110.9,116.3,122.3,125.4]\n",
    "xmin=min(a)\n",
    "xmax=max(a)\n",
    "print(\"value:Normalized value\\n\")\n",
    "for x in a:\n",
    "    n = (x-xmin)/(xmax - xmin)\n",
    "    print(\"{}:{}\".format(x,n))"
   ]
  },
  {
   "cell_type": "code",
   "execution_count": 11,
   "metadata": {},
   "outputs": [],
   "source": [
    "#STANDARDIZATION"
   ]
  },
  {
   "cell_type": "code",
   "execution_count": 23,
   "metadata": {},
   "outputs": [
    {
     "name": "stdout",
     "output_type": "stream",
     "text": [
      "value : standardized \n",
      "\n",
      "115.3 : -0.22422720478983732\n",
      "195.5 : 2.803217546749711\n",
      "120.5 : -0.02793402887954231\n",
      "110.2 : -0.4167455119326263\n",
      "90.4 : -1.164169527898749\n",
      "105.6 : -0.5903894752378875\n",
      "110.9 : -0.3903214305600865\n",
      "116.3 : -0.18647851711478058\n",
      "122.3 : 0.040013608935559664\n",
      "125.4 : 0.15703454072823578\n"
     ]
    }
   ],
   "source": [
    "import math\n",
    "temp_sum =0\n",
    "a=[115.3,195.5,120.5,110.2,90.4,105.6,110.9,116.3,122.3,125.4]\n",
    "\n",
    "#calculate mean\n",
    "mean = sum(a)/ len(a)\n",
    "\n",
    "#calculate standard deviation\n",
    "for i in a:\n",
    "    temp_sum = temp_sum + ((i-mean)**2)\n",
    "sd = math.sqrt(( temp_sum / ( len(a) )))\n",
    "                 \n",
    "#calculate standardization   \n",
    "                 \n",
    "print(\"value : standardized \\n\")\n",
    "for i in a:\n",
    "        s= (i-mean)/ sd\n",
    "        print(\"{} : {}\".format(i,s))"
   ]
  },
  {
   "cell_type": "code",
   "execution_count": 24,
   "metadata": {},
   "outputs": [],
   "source": [
    "#K-MEANS CLUSTERING"
   ]
  },
  {
   "cell_type": "code",
   "execution_count": 25,
   "metadata": {},
   "outputs": [
    {
     "name": "stdout",
     "output_type": "stream",
     "text": [
      "[1, 1, 3, 1, 2, 1, 1, 3, 1, 1]\n",
      "\n",
      "New centroids are\n",
      "cluster1 5.171428571428572 3.1714285714285713\n",
      "cluster2 5.5 4.2\n",
      "cluster3 6.45 2.95\n",
      "\n",
      " [3, 1, 3, 1, 2, 1, 1, 3, 2, 3]\n",
      "\n",
      "New centroids are\n",
      "cluster1 4.800000000000001 3.05\n",
      "cluster2 5.3 4.0\n",
      "cluster3 6.2 3.025\n",
      "\n",
      " [3, 1, 3, 1, 2, 1, 1, 3, 2, 3]\n",
      "\n",
      "New centroids are\n",
      "cluster1 4.800000000000001 3.05\n",
      "cluster2 5.3 4.0\n",
      "cluster3 6.2 3.025\n"
     ]
    }
   ],
   "source": [
    "import math\n",
    "cluster1 = []\n",
    "cluster2 = []\n",
    "cluster3 = []\n",
    "x1,y1 = 6.2,3.2\n",
    "x2,y2 = 6.6,3.7\n",
    "x3,y3 = 6.5,3.0\n",
    "points = [[5.9,3.2],\n",
    "           [4.6,2.9],\n",
    "           [6.2,2.8],\n",
    "           [4.7,3.2],\n",
    "           [5.5,4.2],\n",
    "           [5.0,3.0],\n",
    "           [4.9,3.1],\n",
    "           [6.7,3.1],\n",
    "           [5.1,3.8],\n",
    "           [6.0,3.0]]\n",
    "\n",
    "clist = []\n",
    "def eucledian_distance_1(a,b,xc1,yc1,xc2,yc2,xc3,yc3):\n",
    "    \n",
    "\n",
    "    dis1 = math.sqrt((a-xc1)**2 + (b-yc1)**2)\n",
    "    dis2 = math.sqrt((a-xc2)**2 + (b-yc2)**2)\n",
    "    dis3 = math.sqrt((a-xc3)**2 + (b-yc3)**2)\n",
    "    mind = min(dis1,dis2,dis3)\n",
    "    if(mind == dis1):\n",
    "        clist.append(1)\n",
    "        cluster1.append([a,b])\n",
    "    elif(mind==dis2):\n",
    "        clist.append(2)\n",
    "        cluster2.append([a,b])\n",
    "    else:\n",
    "        clist.append(3)\n",
    "        cluster3.append([a,b])\n",
    "    \n",
    "        \n",
    "def fnc(cls):\n",
    "    sumi = 0\n",
    "    sumj = 0\n",
    "    for i,j in cls:\n",
    "        sumi = sumi + i\n",
    "        sumj = sumj + j\n",
    "    ncx = (sumi/len(cls))\n",
    "    ncy = (sumj/len(cls))\n",
    "    return ncx,ncy\n",
    "\n",
    "for i,j in points:\n",
    "    eucledian_distance_1(i,j,x1,y1,x2,y2,x3,y3)\n",
    "    \n",
    "print(clist)\n",
    "\n",
    "clist = []\n",
    "nxc1,nyc1 = fnc(cluster1)\n",
    "nxc2,nyc2 = fnc(cluster2)\n",
    "nxc3,nyc3 = fnc(cluster3)\n",
    "\n",
    "print(\"\\nNew centroids are\")\n",
    "print(\"cluster1\",nxc1,nyc1)\n",
    "print(\"cluster2\",nxc2,nyc2)\n",
    "print(\"cluster3\",nxc3,nyc3)\n",
    "\n",
    "cluster1 = []\n",
    "cluster2 = []\n",
    "cluster3 = []\n",
    "\n",
    "for i,j in points:\n",
    "    eucledian_distance_1(i,j,nxc1,nyc1,nxc2,nyc2,nxc3,nyc3)\n",
    "    \n",
    "\n",
    "print(\"\\n\",clist)\n",
    "\n",
    "clist = []\n",
    "\n",
    "nxc1,nyc1 = fnc(cluster1)\n",
    "nxc2,nyc2 = fnc(cluster2)\n",
    "nxc3,nyc3 = fnc(cluster3)\n",
    "\n",
    "print(\"\\nNew centroids are\")\n",
    "print(\"cluster1\",nxc1,nyc1)\n",
    "print(\"cluster2\",nxc2,nyc2)\n",
    "print(\"cluster3\",nxc3,nyc3)\n",
    "\n",
    "cluster1 = []\n",
    "cluster2 = []\n",
    "cluster3 = []\n",
    "\n",
    "for i,j in points:\n",
    "    eucledian_distance_1(i,j,nxc1,nyc1,nxc2,nyc2,nxc3,nyc3)\n",
    "print(\"\\n\",clist)\n",
    "clist = []\n",
    "\n",
    "nxc1,nyc1 = fnc(cluster1)\n",
    "nxc2,nyc2 = fnc(cluster2)\n",
    "nxc3,nyc3 = fnc(cluster3)\n",
    "\n",
    "print(\"\\nNew centroids are\")\n",
    "print(\"cluster1\",nxc1,nyc1)\n",
    "print(\"cluster2\",nxc2,nyc2)\n",
    "print(\"cluster3\",nxc3,nyc3)\n",
    "\n",
    "cluster1 = []\n",
    "cluster2 = []\n",
    "cluster3 = []\n",
    "\n",
    "for i,j in points:\n",
    "    eucledian_distance_1(i,j,nxc1,nyc1,nxc2,nyc2,nxc3,nyc3)"
   ]
  },
  {
   "cell_type": "code",
   "execution_count": null,
   "metadata": {},
   "outputs": [],
   "source": []
  }
 ],
 "metadata": {
  "kernelspec": {
   "display_name": "Python 3",
   "language": "python",
   "name": "python3"
  },
  "language_info": {
   "codemirror_mode": {
    "name": "ipython",
    "version": 3
   },
   "file_extension": ".py",
   "mimetype": "text/x-python",
   "name": "python",
   "nbconvert_exporter": "python",
   "pygments_lexer": "ipython3",
   "version": "3.8.5"
  }
 },
 "nbformat": 4,
 "nbformat_minor": 4
}
