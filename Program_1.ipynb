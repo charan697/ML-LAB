{
 "cells": [
  {
   "cell_type": "code",
   "execution_count": 1,
   "id": "e0913d69",
   "metadata": {},
   "outputs": [],
   "source": [
    "#mean\n",
    "l1 = [115.3,195.5,120.5,110.2,90.4,105.6,110.9,116.3,122.3,125.4]\n",
    "sum=0\n",
    "for i in l1:\n",
    "    sum=sum+i\n",
    "    \n",
    "avg=sum/len(l1)    "
   ]
  },
  {
   "cell_type": "code",
   "execution_count": 2,
   "id": "d42eef82",
   "metadata": {},
   "outputs": [
    {
     "data": {
      "text/plain": [
       "121.24000000000001"
      ]
     },
     "execution_count": 2,
     "metadata": {},
     "output_type": "execute_result"
    }
   ],
   "source": [
    "avg"
   ]
  },
  {
   "cell_type": "code",
   "execution_count": 3,
   "id": "3499dbb5",
   "metadata": {},
   "outputs": [
    {
     "data": {
      "text/plain": [
       "[90.4,\n",
       " 105.6,\n",
       " 110.20000000000002,\n",
       " 110.9,\n",
       " 115.29999999999998,\n",
       " 116.3,\n",
       " 120.5,\n",
       " 122.30000000000001,\n",
       " 125.4,\n",
       " 195.49999999999997]"
      ]
     },
     "execution_count": 3,
     "metadata": {},
     "output_type": "execute_result"
    }
   ],
   "source": [
    "# Bubble sort\n",
    "\n",
    "for i in range(0,len(l1)):\n",
    "    for j in range(i,len(l1)):\n",
    "        if l1[i]>l1[j]:\n",
    "            l1[i]=l1[i]+l1[j]\n",
    "            l1[j]=l1[i]-l1[j]\n",
    "            l1[i]=l1[i]-l1[j]\n",
    "l1"
   ]
  },
  {
   "cell_type": "code",
   "execution_count": 4,
   "id": "fd1873bd",
   "metadata": {},
   "outputs": [
    {
     "data": {
      "text/plain": [
       "116.3"
      ]
     },
     "execution_count": 4,
     "metadata": {},
     "output_type": "execute_result"
    }
   ],
   "source": [
    "#median\n",
    "i=int(len(l1)/2)\n",
    "if i%2==0:\n",
    "    res=(l1[i]+l1[i+1])/2\n",
    "else:\n",
    "    res=l1[i]\n",
    "res"
   ]
  },
  {
   "cell_type": "code",
   "execution_count": 5,
   "id": "e10c6050",
   "metadata": {},
   "outputs": [
    {
     "name": "stdout",
     "output_type": "stream",
     "text": [
      "90.4\n"
     ]
    }
   ],
   "source": [
    "#mode\n",
    "d={}\n",
    "for it in l1:\n",
    "    if it in d:\n",
    "        d[it]=d[it]+1\n",
    "    else:\n",
    "        d[it]=1\n",
    "maxi=0\n",
    "for it in d:\n",
    "    if(d[it]>maxi):\n",
    "        maxi=d[it]\n",
    "        ans=it\n",
    "print(ans)"
   ]
  },
  {
   "cell_type": "code",
   "execution_count": 6,
   "id": "346e4458",
   "metadata": {},
   "outputs": [],
   "source": [
    "#variance&standard_deviation\n",
    "temp=0\n",
    "for it in l1:\n",
    "    temp = temp+(it-avg)**2\n",
    "    \n",
    "variance = temp/len(l1)\n",
    "sd=(variance)**(1/2)"
   ]
  },
  {
   "cell_type": "code",
   "execution_count": 7,
   "id": "7292a0ce",
   "metadata": {},
   "outputs": [
    {
     "name": "stdout",
     "output_type": "stream",
     "text": [
      "701.7723999999995\n",
      "26.490987146574955\n"
     ]
    }
   ],
   "source": [
    "print(variance)\n",
    "print(sd)"
   ]
  },
  {
   "cell_type": "code",
   "execution_count": 8,
   "id": "fcc040f5",
   "metadata": {},
   "outputs": [
    {
     "name": "stdout",
     "output_type": "stream",
     "text": [
      "90.4\n",
      "195.49999999999997\n"
     ]
    }
   ],
   "source": [
    "#normalization\n",
    "maxi = 0\n",
    "mini = 100000000\n",
    "for it in l1:\n",
    "    if it>maxi:\n",
    "        maxi=it\n",
    "    if it<mini:\n",
    "        mini=it\n",
    "print(mini)\n",
    "print(maxi)"
   ]
  },
  {
   "cell_type": "code",
   "execution_count": 9,
   "id": "298a8f16",
   "metadata": {},
   "outputs": [
    {
     "data": {
      "text/plain": [
       "[0.0,\n",
       " 0.14462416745956225,\n",
       " 0.18839200761179845,\n",
       " 0.19505233111322556,\n",
       " 0.23691722169362497,\n",
       " 0.24643196955280686,\n",
       " 0.28639391056137015,\n",
       " 0.3035204567078974,\n",
       " 0.3330161750713607,\n",
       " 1.0]"
      ]
     },
     "execution_count": 9,
     "metadata": {},
     "output_type": "execute_result"
    }
   ],
   "source": [
    "norm=[]\n",
    "for it in l1:\n",
    "    norm.append((it-mini)/(maxi-mini))\n",
    "norm"
   ]
  },
  {
   "cell_type": "code",
   "execution_count": 10,
   "id": "97a3466e",
   "metadata": {},
   "outputs": [
    {
     "data": {
      "text/plain": [
       "[-1.1641695278987494,\n",
       " -0.5903894752378877,\n",
       " -0.4167455119326259,\n",
       " -0.3903214305600866,\n",
       " -0.2242272047898379,\n",
       " -0.18647851711478064,\n",
       " -0.027934028879542317,\n",
       " 0.04001360893556021,\n",
       " 0.15703454072823583,\n",
       " 2.8032175467497105]"
      ]
     },
     "execution_count": 10,
     "metadata": {},
     "output_type": "execute_result"
    }
   ],
   "source": [
    "#standardization\n",
    "standard = []\n",
    "for it in l1:\n",
    "    standard.append((it - avg)/sd)\n",
    "standard"
   ]
  },
  {
   "cell_type": "code",
   "execution_count": null,
   "id": "e8fe15c7",
   "metadata": {},
   "outputs": [],
   "source": []
  }
 ],
 "metadata": {
  "kernelspec": {
   "display_name": "Python 3 (ipykernel)",
   "language": "python",
   "name": "python3"
  },
  "language_info": {
   "codemirror_mode": {
    "name": "ipython",
    "version": 3
   },
   "file_extension": ".py",
   "mimetype": "text/x-python",
   "name": "python",
   "nbconvert_exporter": "python",
   "pygments_lexer": "ipython3",
   "version": "3.9.5"
  }
 },
 "nbformat": 4,
 "nbformat_minor": 5
}
